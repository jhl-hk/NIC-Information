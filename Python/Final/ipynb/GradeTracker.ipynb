{
 "cells": [
  {
   "cell_type": "markdown",
   "metadata": {},
   "source": [
    "# Grade Tracker"
   ]
  },
  {
   "cell_type": "code",
   "execution_count": null,
   "metadata": {
    "vscode": {
     "languageId": "plaintext"
    }
   },
   "outputs": [],
   "source": [
    "students = []\n",
    "\n",
    "while True:\n",
    "    print(\"\\nStudent Grade Tracker\")\n",
    "    print(\"1. Add Student\")\n",
    "    print(\"2. Calculate Average Grade\")\n",
    "    print(\"3. Exit\")\n",
    "\n",
    "    choice = input(\"Enter your choice: \")\n",
    "    if choice == \"1\":\n",
    "        name = input(\"Enter the student's name: \")\n",
    "        grade = float(input(\"Enter the student's grade: \"))\n",
    "        students.append({\"name\": name, \"grade\": grade})\n",
    "    elif choice == \"2\":\n",
    "        if not students:\n",
    "            print(\"No students added yet.\")\n",
    "        else:\n",
    "            total_grade = sum(student[\"grade\"] for student in students)\n",
    "            average_grade = total_grade / len(students)\n",
    "            print(f\"\\nTotal Students: {len(students)}\")\n",
    "            print(f\"Average Grade: {average_grade:.2f}\")\n",
    "    elif choice == \"3\":\n",
    "        print(\"Exiting the program...\")\n",
    "        break\n",
    "    else:\n",
    "        print(\"Invalid choice. Please try again.\")"
   ]
  }
 ],
 "metadata": {
  "language_info": {
   "name": "python"
  }
 },
 "nbformat": 4,
 "nbformat_minor": 2
}
