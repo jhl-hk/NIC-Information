{
 "cells": [
  {
   "cell_type": "code",
   "execution_count": null,
   "metadata": {},
   "outputs": [],
   "source": [
    "# To Do list\n",
    "\n",
    "This program will generate a `task.json` file to store the data."
   ]
  },
  {
   "cell_type": "code",
   "execution_count": null,
   "metadata": {},
   "outputs": [],
   "source": [
    "import json\n",
    "\n",
    "def load_tasks():\n",
    "    try:\n",
    "        with open(\"tasks.json\", \"r\") as file:\n",
    "            return json.load(file)\n",
    "    except FileNotFoundError:\n",
    "        return []\n",
    "\n",
    "def save_tasks(tasks):\n",
    "    with open(\"tasks.json\", \"w\") as file:\n",
    "        json.dump(tasks, file)\n",
    "\n",
    "def add_task(tasks, task):\n",
    "    tasks.append({\"task\": task, \"completed\": False})\n",
    "    save_tasks(tasks)\n",
    "\n",
    "def remove_task(tasks, index):\n",
    "    tasks.pop(index)\n",
    "    save_tasks(tasks)\n",
    "\n",
    "def mark_task_completed(tasks, index):\n",
    "    tasks[index][\"completed\"] = True\n",
    "    save_tasks(tasks)\n",
    "\n",
    "def display_tasks(tasks):\n",
    "    for index, task in enumerate(tasks, start=1):\n",
    "        status = \"Completed\" if task[\"completed\"] else \"Not Completed\"\n",
    "        print(f\"\\nTask List\")\n",
    "        print(f\"----------\")\n",
    "        print(f\"{index}. {task['task']} - {status}\")\n",
    "\n",
    "def main():\n",
    "    tasks = load_tasks()\n",
    "    while True:\n",
    "        print(\"\\nTo-Do List\")\n",
    "        print(\"1. Add Task\")\n",
    "        print(\"2. Remove Task\")\n",
    "        print(\"3. Mark Task as Completed\")\n",
    "        print(\"4. Display Tasks\")\n",
    "        print(\"5. Exit\")\n",
    "\n",
    "        choice = input(\"Enter your choice: \")\n",
    "        if choice == \"1\":\n",
    "            task = input(\"Enter the task: \")\n",
    "            add_task(tasks, task)\n",
    "        elif choice == \"2\":\n",
    "            index = int(input(\"Enter the index of the task to remove: \"))\n",
    "            remove_task(tasks, index - 1)\n",
    "        elif choice == \"3\":\n",
    "            index = int(input(\"Enter the index of the task to mark as completed: \"))\n",
    "            mark_task_completed(tasks, index - 1)\n",
    "        elif choice == \"4\":\n",
    "            display_tasks(tasks)\n",
    "        elif choice == \"5\":\n",
    "            print(\"Exiting the program...\")\n",
    "            break\n",
    "        else:\n",
    "            print(\"Invalid choice. Please try again.\")\n",
    "            \n",
    "main()"
   ]
  }
 ],
 "metadata": {
  "kernelspec": {
   "display_name": ".venv",
   "language": "python",
   "name": "python3"
  },
  "language_info": {
   "name": "python",
   "version": "3.12.5"
  }
 },
 "nbformat": 4,
 "nbformat_minor": 2
}
