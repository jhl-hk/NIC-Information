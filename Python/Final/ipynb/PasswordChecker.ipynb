{
 "cells": [
  {
   "cell_type": "code",
   "execution_count": null,
   "metadata": {
    "vscode": {
     "languageId": "plaintext"
    }
   },
   "outputs": [],
   "source": [
    "# Password Checker"
   ]
  },
  {
   "cell_type": "code",
   "execution_count": null,
   "metadata": {
    "vscode": {
     "languageId": "plaintext"
    }
   },
   "outputs": [],
   "source": [
    "import re\n",
    "\n",
    "def check_password_strength(password):\n",
    "    if len(password) < 8:\n",
    "        return \"Weak: Password must be at least 8 characters long\"\n",
    "    if not re.search(r'[A-Z]', password):\n",
    "        return \"Weak: Password must contain at least one uppercase letter\"\n",
    "    if not re.search(r'[a-z]', password):\n",
    "        return \"Weak: Password must contain at least one lowercase letter\"\n",
    "    if not re.search(r'\\d', password):\n",
    "        return \"Weak: Password must contain at least one number\"\n",
    "    if not re.search(r'[!@#$%^&*(),.?\":{}|<>]', password):\n",
    "        return \"Weak: Password must contain at least one special character\"\n",
    "    return \"Strong: Password is strong\"\n",
    "    \n",
    "def main():\n",
    "    password = input(\"Enter a password: \")\n",
    "    print(check_password_strength(password))\n",
    "    \n",
    "main()"
   ]
  }
 ],
 "metadata": {
  "language_info": {
   "name": "python"
  }
 },
 "nbformat": 4,
 "nbformat_minor": 2
}
