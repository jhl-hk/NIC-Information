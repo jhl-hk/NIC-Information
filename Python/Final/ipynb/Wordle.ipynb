{
 "cells": [
  {
   "cell_type": "markdown",
   "metadata": {},
   "source": [
    "# Wordle\n",
    "\n",
    "You need a `words.txt` file in your directory with WORDS in it (One line One word)."
   ]
  },
  {
   "cell_type": "code",
   "execution_count": null,
   "metadata": {},
   "outputs": [],
   "source": [
    "import random\n",
    "\n",
    "def get_word():\n",
    "    with open(\"words.txt\", \"r\") as file:\n",
    "        words = file.readlines()\n",
    "    return random.choice(words).strip()\n",
    "    \n",
    "def play_wordle():\n",
    "    word = get_word()\n",
    "    attempts = 6\n",
    "    guessed = False\n",
    "    \n",
    "    print(\"Welcome to Wordle!\")\n",
    "    \n",
    "    while attempts > 0 and not guessed:\n",
    "        print(f\"\\nAttempts remaining: {attempts}\")\n",
    "        guess = input(\"Enter your guess: \").lower()\n",
    "        \n",
    "        if len(guess) != len(word):\n",
    "            print(\"Invalid guess. Please enter a word with the same length as the target word.\")\n",
    "            continue\n",
    "\n",
    "        if guess == word:\n",
    "            print(f\"Congratulations! You guessed the word: {word}\")\n",
    "            guessed = True\n",
    "            break\n",
    "        \n",
    "        result = \"\"\n",
    "        for i in range(len(word)):\n",
    "            if guess[i] == word[i]:\n",
    "                result += guess[i].upper()\n",
    "            elif guess[i] in word:\n",
    "                result += guess[i].lower()\n",
    "            else:  \n",
    "                result += \"_\"\n",
    "                \n",
    "        print(result)\n",
    "        attempts -= 1\n",
    "    if not guessed:\n",
    "        print(f\"Sorry, you didn't guess the word. The word was: {word}\")\n",
    "     \n",
    "play_wordle()"
   ]
  }
 ],
 "metadata": {
  "kernelspec": {
   "display_name": ".venv",
   "language": "python",
   "name": "python3"
  },
  "language_info": {
   "name": "python",
   "version": "3.12.5"
  }
 },
 "nbformat": 4,
 "nbformat_minor": 2
}
