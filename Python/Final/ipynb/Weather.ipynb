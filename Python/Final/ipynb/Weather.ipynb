{
 "cells": [
  {
   "cell_type": "code",
   "execution_count": null,
   "metadata": {
    "vscode": {
     "languageId": "plaintext"
    }
   },
   "outputs": [],
   "source": [
    "# Weather Application\n",
    "\n",
    "Generate your API Key at www.weatherapi.com and replace the APIKEY Value."
   ]
  },
  {
   "cell_type": "code",
   "execution_count": null,
   "metadata": {},
   "outputs": [],
   "source": [
    "import requests\n",
    "\n",
    "# Environmnetal Values\n",
    "URL = \"http://api.weatherapi.com/v1\"\n",
    "API_KEY = \"Your API KEY\"\n",
    "\n",
    "# Get Current Weather through City\n",
    "def get_weather(city):\n",
    "    try:\n",
    "        response = requests.get(f\"{URL}/current.json?key={API_KEY}&q={city}\")\n",
    "        response.raise_for_status()\n",
    "        original_data = response.json()\n",
    "        data = {\n",
    "            \"location\": original_data[\"location\"][\"name\"],\n",
    "            \"temperature\": original_data[\"current\"][\"temp_c\"],\n",
    "            \"condition\": original_data[\"current\"][\"condition\"][\"text\"],\n",
    "            \"humidity\": original_data[\"current\"][\"humidity\"],\n",
    "            \"wind_speed\": original_data[\"current\"][\"wind_kph\"],\n",
    "            \"feels_like\": original_data[\"current\"][\"feelslike_c\"],\n",
    "        }\n",
    "        print(f\"Weather in {data['location']}: {data['temperature']}°C, {data['condition']}, {data['humidity']}% humidity, {data['wind_speed']} km/h wind speed, feels like {data['feels_like']}°C\")\n",
    "        return\n",
    "    except requests.exceptions.RequestException as e:\n",
    "        print(f\"Error fetching weather data: {e}\")\n",
    "        return None\n",
    "\n",
    "city = input(\"Enter the name of the city: \")\n",
    "get_weather(city)"
   ]
  }
 ],
 "metadata": {
  "language_info": {
   "name": "python"
  }
 },
 "nbformat": 4,
 "nbformat_minor": 2
}
