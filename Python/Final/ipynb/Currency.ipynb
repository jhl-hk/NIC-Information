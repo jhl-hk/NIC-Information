{
 "cells": [
  {
   "cell_type": "markdown",
   "metadata": {},
   "source": [
    "# Currency Exchanger\n",
    "\n",
    "You need generate your own API Key from https://app.currencyapi.com and replace the API_KEY."
   ]
  },
  {
   "cell_type": "code",
   "execution_count": null,
   "metadata": {
    "vscode": {
     "languageId": "plaintext"
    }
   },
   "outputs": [],
   "source": [
    "import requests\n",
    "\n",
    "# Environment Variables\n",
    "URL = \"https://api.currencyapi.com/v3/latest\"\n",
    "API_KEY = \"YOUR API KEY\"\n",
    "\n",
    "# Get Currency Exchange Rate\n",
    "def get_currency_exchange_rate(from_currency, to_currency):\n",
    "    response = requests.get(f\"{URL}?apikey={API_KEY}&base_currency={from_currency}&currencies={to_currency}\")\n",
    "    response.raise_for_status()\n",
    "    data = response.json()\n",
    "    return data[\"data\"][to_currency][\"value\"]\n",
    "\n",
    "# Main Function\n",
    "def main():\n",
    "    from_currency = input(\"Enter the source currency (e.g., USD): \").upper()\n",
    "    to_currency = input(\"Enter the target currency (e.g., EUR): \").upper()\n",
    "    amount = float(input(\"Enter the amount to convert: \"))\n",
    "    \n",
    "    try:\n",
    "        exchange_rate = get_currency_exchange_rate(from_currency, to_currency)\n",
    "        print(f\"Current: 1 {from_currency} = {exchange_rate} {to_currency}\")\n",
    "        print(f\"{amount} {from_currency} = {amount * exchange_rate} {to_currency}\")\n",
    "    except requests.exceptions.RequestException as e:\n",
    "        print(f\"Error fetching currency data: {e}\")\n",
    "    except KeyError:\n",
    "        print(\"Invalid currency code. Please try again.\")\n",
    "        \n",
    "main()"
   ]
  }
 ],
 "metadata": {
  "language_info": {
   "name": "python"
  }
 },
 "nbformat": 4,
 "nbformat_minor": 2
}
