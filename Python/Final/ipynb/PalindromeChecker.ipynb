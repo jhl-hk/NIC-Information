{
 "cells": [
  {
   "cell_type": "markdown",
   "metadata": {},
   "source": [
    "# Palindrome Checker"
   ]
  },
  {
   "cell_type": "code",
   "execution_count": null,
   "metadata": {
    "vscode": {
     "languageId": "plaintext"
    }
   },
   "outputs": [],
   "source": [
    "def is_palindrome(word):\n",
    "    word = word.lower()\n",
    "    word = word.replace(\" \", \"\")\n",
    "    return word == word[::-1]\n",
    "\n",
    "word = input(\"Enter a word or phrase: \")\n",
    "if is_palindrome(word):\n",
    "    print(\"The word or phrase is a palindrome.\")\n",
    "else:\n",
    "    print(\"The word or phrase is not a palindrome.\")"
   ]
  }
 ],
 "metadata": {
  "language_info": {
   "name": "python"
  }
 },
 "nbformat": 4,
 "nbformat_minor": 2
}
