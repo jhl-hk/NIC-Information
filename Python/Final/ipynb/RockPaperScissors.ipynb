{
 "cells": [
  {
   "cell_type": "markdown",
   "metadata": {},
   "source": [
    "# Rocker Paper Scissors"
   ]
  },
  {
   "cell_type": "code",
   "execution_count": null,
   "metadata": {
    "vscode": {
     "languageId": "plaintext"
    }
   },
   "outputs": [],
   "source": [
    "import random\n",
    "\n",
    "def get_user_choice():\n",
    "    while True:\n",
    "        user_choice = input(\"Enter your choice (rock, paper, scissors): \").lower()\n",
    "        if user_choice in [\"rock\", \"paper\", \"scissors\"]:\n",
    "            return user_choice\n",
    "        else:\n",
    "            print(\"Invalid choice. Please try again.\")\n",
    "\n",
    "def get_computer_choice():\n",
    "    return random.choice([\"rock\", \"paper\", \"scissors\"])\n",
    "\n",
    "def determine_winner(user_choice, computer_choice):\n",
    "    if user_choice == computer_choice:\n",
    "        return f\"It's a tie! Computer: {computer_choice}, You: {user_choice}\"\n",
    "    elif user_choice == \"rock\" and computer_choice == \"scissors\":\n",
    "        return f\"Rock smashes scissors! You win! Computer: {computer_choice}, You: {user_choice}\"\n",
    "    elif user_choice == \"paper\" and computer_choice == \"rock\":\n",
    "        return f\"Paper covers rock! You win! Computer: {computer_choice}, You: {user_choice}\"\n",
    "    elif user_choice == \"scissors\" and computer_choice == \"paper\":\n",
    "        return f\"Scissors cut paper! You win! Computer: {computer_choice}, You: {user_choice}\"\n",
    "    else:\n",
    "        return f\"Computer wins! Computer: {computer_choice}, You: {user_choice}\"\n",
    "    \n",
    "def main():\n",
    "    print(\"Welcome to Rock, Paper, Scissors!\")\n",
    "    user_score = 0\n",
    "    computer_score = 0\n",
    "    \n",
    "    while True:\n",
    "        print(\"\\nRock, Paper, Scissors\")\n",
    "        print(\"1. Play\")\n",
    "        print(\"2. Exit\")\n",
    "        \n",
    "        choice = input(\"Enter your choice: \")\n",
    "        if choice == \"1\":\n",
    "            user_choice = get_user_choice()\n",
    "            computer_choice = get_computer_choice()\n",
    "            result = determine_winner(user_choice, computer_choice)\n",
    "            print(result)\n",
    "            if \"win\" in result:\n",
    "                user_score += 1\n",
    "            elif \"lose\" in result:\n",
    "                computer_score += 1\n",
    "        elif choice == \"2\":\n",
    "            print(f\"Final Score - You: {user_score} Computer: {computer_score}\")\n",
    "            break\n",
    "\n",
    "main()"
   ]
  }
 ],
 "metadata": {
  "language_info": {
   "name": "python"
  }
 },
 "nbformat": 4,
 "nbformat_minor": 2
}
