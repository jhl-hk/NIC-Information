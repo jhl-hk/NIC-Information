{
 "cells": [
  {
   "cell_type": "code",
   "execution_count": null,
   "metadata": {
    "vscode": {
     "languageId": "plaintext"
    }
   },
   "outputs": [],
   "source": [
    "# Simple Calculator"
   ]
  },
  {
   "cell_type": "markdown",
   "metadata": {},
   "source": [
    "try:\n",
    "    a = int(input(\"Introduce a number: \"))\n",
    "\n",
    "    while True:\n",
    "        op = input(\"Select from +, -, *, /: \")\n",
    "        b = int(input(\"Introduce a number: \"))\n",
    "    \n",
    "        if op == \"+\":\n",
    "            a += b\n",
    "        elif op == \"-\":\n",
    "            a -= b\n",
    "        elif op == \"*\":\n",
    "            a *= b\n",
    "        elif op == \"/\":\n",
    "            a /= b\n",
    "        else:\n",
    "            print(\"Invalid Input\")\n",
    "            break\n",
    "    \n",
    "        print(f\"The answer is {a}\")\n",
    "    \n",
    "        is_continue = input(\"Do you want to continue (y/n): \")\n",
    "        if is_continue == \"n\":\n",
    "            break\n",
    "    \n",
    "except Exception as e:\n",
    "    print(f\"Error: {e}\")"
   ]
  }
 ],
 "metadata": {
  "language_info": {
   "name": "python"
  }
 },
 "nbformat": 4,
 "nbformat_minor": 2
}
