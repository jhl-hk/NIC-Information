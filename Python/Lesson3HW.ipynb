{
 "cells": [
  {
   "cell_type": "code",
   "execution_count": null,
   "id": "initial_id",
   "metadata": {
    "collapsed": true
   },
   "outputs": [],
   "source": [
    "num_1=int(input(\"write a number\"))\n",
    "num_2=int(input(\"write another number\"))\n",
    "operation=input(\"choose among: sum, subtraction, multiplication, power, and division: \")\n",
    "if operation == \"sum\":\n",
    "    result = num_1+num_2\n",
    "elif operation == \"subtraction\":\n",
    "    result= num_1-num_2\n",
    "elif operation == \"multiplication\":\n",
    "    result = num_1*num_2\n",
    "elif operation == \"division\":\n",
    "    result = num_1/num_2\n",
    "elif operation == \"power\":\n",
    "    result = num_1**num_2\n",
    "else:\n",
    "    print(\"You did not input a correct operation.\")\n",
    "    result = 0\n",
    "\n",
    "print(\"This is your result: \" + str(result))"
   ]
  },
  {
   "metadata": {},
   "cell_type": "code",
   "outputs": [],
   "execution_count": null,
   "source": [
    "# Word Game\n",
    "adjective_1 = input(\"Input a adjective: \")\n",
    "adjective_2 = input(\"Input another adjective: \")\n",
    "name = input(\"Input a name: \")\n",
    "verb = input(\"Input a verb: \")\n",
    "place = input(\"Input a place: \")\n",
    "\n",
    "print(f\"\"\"\n",
    "    Once upon a time, in a(n) {adjective_1} village, there lived a {adjective_2} boy named {name} who loved to {verb} in the {place}.\n",
    "\"\"\")"
   ],
   "id": "2fe8e6ddab4cbe3d"
  }
 ],
 "metadata": {
  "kernelspec": {
   "display_name": "Python 3",
   "language": "python",
   "name": "python3"
  },
  "language_info": {
   "codemirror_mode": {
    "name": "ipython",
    "version": 2
   },
   "file_extension": ".py",
   "mimetype": "text/x-python",
   "name": "python",
   "nbconvert_exporter": "python",
   "pygments_lexer": "ipython2",
   "version": "2.7.6"
  }
 },
 "nbformat": 4,
 "nbformat_minor": 5
}
