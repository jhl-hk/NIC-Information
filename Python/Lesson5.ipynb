{
 "cells": [
  {
   "cell_type": "code",
   "id": "be260b42cde16a6f",
   "metadata": {
    "ExecuteTime": {
     "end_time": "2025-03-05T01:07:20.742809Z",
     "start_time": "2025-03-05T01:07:14.081058Z"
    }
   },
   "source": [
    "# introduce a number\n",
    "# select one op\n",
    "# introduce another number\n",
    "# continue or not\n",
    "try:\n",
    "    a = int(input(\"Introduce a number: \"))\n",
    "\n",
    "    while True:\n",
    "        op = input(\"Select from +, -, *, /: \")\n",
    "        b = int(input(\"Introduce a number: \"))\n",
    "    \n",
    "        if op == \"+\":\n",
    "            a += b\n",
    "        elif op == \"-\":\n",
    "            a -= b\n",
    "        elif op == \"*\":\n",
    "            a *= b\n",
    "        elif op == \"/\":\n",
    "            a /= b\n",
    "        else:\n",
    "            print(\"Invalid Input\")\n",
    "            break\n",
    "    \n",
    "        print(f\"The answer is {a}\")\n",
    "    \n",
    "        is_continue = input(\"Do you want to continue (y/n): \")\n",
    "        if is_continue == \"n\":\n",
    "            break\n",
    "    \n",
    "except Exception as e:\n",
    "    print(f\"Error: {e}\")"
   ],
   "outputs": [
    {
     "name": "stdout",
     "output_type": "stream",
     "text": [
      "Error: invalid literal for int() with base 10: 'a'\n"
     ]
    }
   ],
   "execution_count": 6
  },
  {
   "cell_type": "code",
   "id": "91112441-8b89-456d-b1ab-504844544d7b",
   "metadata": {
    "ExecuteTime": {
     "end_time": "2025-03-05T01:03:28.395441Z",
     "start_time": "2025-03-05T01:03:28.379091Z"
    }
   },
   "source": [],
   "outputs": [],
   "execution_count": null
  },
  {
   "metadata": {},
   "cell_type": "code",
   "outputs": [],
   "execution_count": null,
   "source": "",
   "id": "ef042df98e905ed9"
  }
 ],
 "metadata": {
  "kernelspec": {
   "display_name": "Python 3 (ipykernel)",
   "language": "python",
   "name": "python3"
  },
  "language_info": {
   "codemirror_mode": {
    "name": "ipython",
    "version": 3
   },
   "file_extension": ".py",
   "mimetype": "text/x-python",
   "name": "python",
   "nbconvert_exporter": "python",
   "pygments_lexer": "ipython3",
   "version": "3.12.4"
  }
 },
 "nbformat": 4,
 "nbformat_minor": 5
}
