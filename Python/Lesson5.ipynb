{
 "cells": [
  {
   "metadata": {},
   "cell_type": "code",
   "outputs": [],
   "execution_count": null,
   "source": [
    "# introduce a number\n",
    "# select one op\n",
    "# introduce another number\n",
    "# continue or not\n",
    "a = int(input(\"Introduce a number: \"))\n",
    "\n",
    "while True:\n",
    "    op = input(\"Select from +, -, *, /: \")\n",
    "    b = int(input(\"Introduce a number: \"))\n",
    "    \n",
    "    if op == \"+\":\n",
    "        a += b\n",
    "    elif op == \"-\":\n",
    "        a -= b\n",
    "    elif op == \"*\":\n",
    "        a *= b\n",
    "    elif op == \"/\":\n",
    "        a /= b\n",
    "    else:\n",
    "        print(\"Invalid Input\")\n",
    "        break\n",
    "    \n",
    "    print(f\"The answer is {a}\")\n",
    "    \n",
    "    is_continue = input(\"Do you want to continue (y/n): \")\n",
    "    if is_continue == \"n\":\n",
    "        break"
   ],
   "id": "be260b42cde16a6f"
  }
 ],
 "metadata": {
  "kernelspec": {
   "display_name": "Python 3",
   "language": "python",
   "name": "python3"
  },
  "language_info": {
   "codemirror_mode": {
    "name": "ipython",
    "version": 3
   },
   "file_extension": ".py",
   "mimetype": "text/x-python",
   "name": "python",
   "nbconvert_exporter": "python",
   "pygments_lexer": "ipython3",
   "version": "3.12.5"
  }
 },
 "nbformat": 4,
 "nbformat_minor": 5
}
